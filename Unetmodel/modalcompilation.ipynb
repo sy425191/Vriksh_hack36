{
  "nbformat": 4,
  "nbformat_minor": 0,
  "metadata": {
    "colab": {
      "provenance": []
    },
    "kernelspec": {
      "name": "python3",
      "display_name": "Python 3"
    },
    "language_info": {
      "name": "python"
    },
    "accelerator": "GPU",
    "gpuClass": "standard"
  },
  "cells": [
    {
      "cell_type": "markdown",
      "source": [
        "**Prepare Data Set for training of model**"
      ],
      "metadata": {
        "id": "f6yW1j0RhT_F"
      }
    },
    {
      "cell_type": "code",
      "source": [
        "from google.colab import drive\n",
        "drive.mount('/content/drive')"
      ],
      "metadata": {
        "colab": {
          "base_uri": "https://localhost:8080/"
        },
        "id": "isXaD6kjyKVz",
        "outputId": "093ba4b5-c44f-4466-d821-c22144ee0e8b"
      },
      "execution_count": 1,
      "outputs": [
        {
          "output_type": "stream",
          "name": "stdout",
          "text": [
            "Drive already mounted at /content/drive; to attempt to forcibly remount, call drive.mount(\"/content/drive\", force_remount=True).\n"
          ]
        }
      ]
    },
    {
      "cell_type": "code",
      "source": [
        "!pip install patchify"
      ],
      "metadata": {
        "colab": {
          "base_uri": "https://localhost:8080/"
        },
        "id": "R5B_8LjwUwTb",
        "outputId": "6b07dc4c-1317-4c48-e799-ba917832b2c6"
      },
      "execution_count": 2,
      "outputs": [
        {
          "output_type": "stream",
          "name": "stdout",
          "text": [
            "Looking in indexes: https://pypi.org/simple, https://us-python.pkg.dev/colab-wheels/public/simple/\n",
            "Collecting patchify\n",
            "  Downloading patchify-0.2.3-py3-none-any.whl (6.6 kB)\n",
            "Requirement already satisfied: numpy<2,>=1 in /usr/local/lib/python3.9/dist-packages (from patchify) (1.22.4)\n",
            "Installing collected packages: patchify\n",
            "Successfully installed patchify-0.2.3\n"
          ]
        }
      ]
    },
    {
      "cell_type": "code",
      "source": [
        "import os\n",
        "import cv2\n",
        "from PIL import Image \n",
        "import numpy as np \n",
        "from patchify import patchify\n",
        "from sklearn.preprocessing import MinMaxScaler, StandardScaler\n",
        "\n",
        "from matplotlib import pyplot as plt\n",
        "import random"
      ],
      "metadata": {
        "id": "1JhfzEhNUxht"
      },
      "execution_count": 3,
      "outputs": []
    },
    {
      "cell_type": "code",
      "source": [
        "minmaxscaler = MinMaxScaler()"
      ],
      "metadata": {
        "id": "UOjW93A1eWs-"
      },
      "execution_count": 4,
      "outputs": []
    },
    {
      "cell_type": "code",
      "source": [
        "dataset_root_folder='/content/drive/MyDrive/Colab Notebooks/'"
      ],
      "metadata": {
        "id": "F3ersFuGeXx-"
      },
      "execution_count": 5,
      "outputs": []
    },
    {
      "cell_type": "code",
      "source": [
        "dataset_name=\"data\""
      ],
      "metadata": {
        "id": "JtxiK9FCebKc"
      },
      "execution_count": 6,
      "outputs": []
    },
    {
      "cell_type": "code",
      "source": [
        "for path, subdirs, files in os.walk(os.path.join(dataset_root_folder, dataset_name)):\n",
        "  dir_name = path.split(os.path.sep)[-1]\n",
        "  if dir_name == 'masks': # 'images\n",
        "    images = os.listdir(path)\n",
        "    for i, image_name in enumerate(images):\n",
        "      if (image_name.endswith('.png')): # '.jpg\n",
        "        a = True"
      ],
      "metadata": {
        "id": "WT_NrYrZed-b"
      },
      "execution_count": 7,
      "outputs": []
    },
    {
      "cell_type": "code",
      "source": [
        "image_patch_size = 160"
      ],
      "metadata": {
        "id": "iayuH2DEek_l"
      },
      "execution_count": 8,
      "outputs": []
    },
    {
      "cell_type": "code",
      "source": [
        "image_dataset = []\n",
        "mask_dataset = []\n",
        "\n",
        "for image_type in ['images' , 'masks']:\n",
        "  if image_type == 'images':\n",
        "    image_extension = 'jpg'\n",
        "  elif image_type == 'masks':\n",
        "     image_extension = 'png'\n",
        "  for image_id in range(0,20):\n",
        "      image = cv2.imread(f'{dataset_root_folder}/{dataset_name}/{image_type}/0{image_id}.{image_extension}',1)\n",
        "      if image is not None:\n",
        "        if image_type == 'masks':\n",
        "          image = cv2.cvtColor(image, cv2.COLOR_BGR2RGB)\n",
        "        size_x = (image.shape[1]//image_patch_size)*image_patch_size\n",
        "        size_y = (image.shape[0]//image_patch_size)*image_patch_size\n",
        "        image = Image.fromarray(image)\n",
        "        image = image.crop((0,0, size_x, size_y))\n",
        "        image = np.array(image)\n",
        "        patched_images = patchify(image, (image_patch_size, image_patch_size, 3), step=image_patch_size)\n",
        "        for i in range(patched_images.shape[0]):\n",
        "          for j in range(patched_images.shape[1]):\n",
        "            if image_type == 'images':\n",
        "              individual_patched_image = patched_images[i,j,:,:]\n",
        "              individual_patched_image = minmaxscaler.fit_transform(individual_patched_image.reshape(-1, individual_patched_image.shape[-1])).reshape(individual_patched_image.shape)\n",
        "              individual_patched_image = individual_patched_image[0]\n",
        "              image_dataset.append(individual_patched_image)\n",
        "            elif image_type == 'masks':\n",
        "              individual_patched_mask = patched_images[i,j,:,:]\n",
        "              individual_patched_mask = individual_patched_mask[0]\n",
        "              mask_dataset.append(individual_patched_mask)"
      ],
      "metadata": {
        "id": "dmjwZ96BffF2"
      },
      "execution_count": 9,
      "outputs": []
    },
    {
      "cell_type": "code",
      "source": [
        "print(len(image_dataset))\n",
        "print(len(mask_dataset))"
      ],
      "metadata": {
        "colab": {
          "base_uri": "https://localhost:8080/"
        },
        "id": "kseKhwVre9rU",
        "outputId": "3b62cf33-91ae-4984-aa79-119879e878f5"
      },
      "execution_count": 10,
      "outputs": [
        {
          "output_type": "stream",
          "name": "stdout",
          "text": [
            "160\n",
            "160\n"
          ]
        }
      ]
    },
    {
      "cell_type": "code",
      "source": [
        "image_dataset = np.array(image_dataset)\n",
        "mask_dataset = np.array(mask_dataset)"
      ],
      "metadata": {
        "id": "m0JpYbY7fBYV"
      },
      "execution_count": 11,
      "outputs": []
    },
    {
      "cell_type": "code",
      "source": [
        "class_vegetation = '#000000'\n",
        "class_vegetation = class_vegetation.lstrip('#')\n",
        "class_vegetation = np.array(tuple(int(class_vegetation[i:i+2], 16) for i in (0,2,4)))\n",
        "print(class_vegetation)\n",
        "\n",
        "\n",
        "class_unlabeled = '#ffffff'\n",
        "class_unlabeled = class_unlabeled.lstrip('#')\n",
        "class_unlabeled = np.array(tuple(int(class_unlabeled[i:i+2], 16) for i in (0,2,4)))\n",
        "print(class_unlabeled)"
      ],
      "metadata": {
        "colab": {
          "base_uri": "https://localhost:8080/"
        },
        "id": "7Ewu_CdDfEKU",
        "outputId": "b908c4b3-1535-4aa0-8b79-468bce2b2f42"
      },
      "execution_count": 12,
      "outputs": [
        {
          "output_type": "stream",
          "name": "stdout",
          "text": [
            "[0 0 0]\n",
            "[255 255 255]\n"
          ]
        }
      ]
    },
    {
      "cell_type": "code",
      "source": [
        "label = individual_patched_mask"
      ],
      "metadata": {
        "id": "im5Lbdc6fIBx"
      },
      "execution_count": 13,
      "outputs": []
    },
    {
      "cell_type": "code",
      "source": [
        "def rgb_to_label(label):\n",
        "  label_segment = np.zeros(label.shape, dtype=np.uint8)\n",
        "  label_segment[np.all(label == class_vegetation, axis=-1)] = 0\n",
        "  label_segment[np.all(label == class_unlabeled, axis=-1)] = 1\n",
        "  #print(label_segment)\n",
        "  label_segment = label_segment[:,:,0]\n",
        "  #print(label_segment)\n",
        "  return label_segment"
      ],
      "metadata": {
        "id": "qWoGimDffKyq"
      },
      "execution_count": 14,
      "outputs": []
    },
    {
      "cell_type": "code",
      "source": [
        "labels = []\n",
        "for i in range(mask_dataset.shape[0]):\n",
        "  label = rgb_to_label(mask_dataset[i])\n",
        "  labels.append(label)"
      ],
      "metadata": {
        "id": "VfmUfJL-fOze"
      },
      "execution_count": 15,
      "outputs": []
    },
    {
      "cell_type": "code",
      "source": [
        "labels = np.array(labels)"
      ],
      "metadata": {
        "id": "roMClCsIfR0F"
      },
      "execution_count": 16,
      "outputs": []
    },
    {
      "cell_type": "code",
      "source": [
        "labels = np.expand_dims(labels, axis=3)"
      ],
      "metadata": {
        "id": "FjUsUCS6fXMJ"
      },
      "execution_count": 17,
      "outputs": []
    },
    {
      "cell_type": "code",
      "source": [
        "total_classes = len(np.unique(labels))"
      ],
      "metadata": {
        "id": "n6HRLen3fYKu"
      },
      "execution_count": 18,
      "outputs": []
    },
    {
      "cell_type": "code",
      "source": [
        "from tensorflow.keras.utils import to_categorical"
      ],
      "metadata": {
        "id": "kPSWo1jHfclb"
      },
      "execution_count": 19,
      "outputs": []
    },
    {
      "cell_type": "code",
      "source": [
        "labels_categorical_dataset = to_categorical(labels, num_classes=total_classes)"
      ],
      "metadata": {
        "id": "8mUfDZHWfhwB"
      },
      "execution_count": 20,
      "outputs": []
    },
    {
      "cell_type": "code",
      "source": [
        "master_trianing_dataset = image_dataset"
      ],
      "metadata": {
        "id": "WLnCCVnzfl9I"
      },
      "execution_count": 21,
      "outputs": []
    },
    {
      "cell_type": "code",
      "source": [
        "from sklearn.model_selection import train_test_split"
      ],
      "metadata": {
        "id": "Fz_8ND1-fpOq"
      },
      "execution_count": 22,
      "outputs": []
    },
    {
      "cell_type": "code",
      "source": [
        "X_train, X_test, y_train, y_test = train_test_split(master_trianing_dataset, labels_categorical_dataset, test_size=0.15, random_state=100)"
      ],
      "metadata": {
        "id": "aAF0zUgSeOMB"
      },
      "execution_count": 23,
      "outputs": []
    },
    {
      "cell_type": "code",
      "source": [
        "image_height = X_train.shape[1]\n",
        "image_width = X_train.shape[2]\n",
        "image_channels = X_train.shape[3]\n",
        "total_classes = y_train.shape[3]"
      ],
      "metadata": {
        "id": "GUwAh8Fvf3dP"
      },
      "execution_count": 24,
      "outputs": []
    },
    {
      "cell_type": "markdown",
      "source": [
        "**Creation of Deep Learning U-Net Model**"
      ],
      "metadata": {
        "id": "CSBLnyYfwUha"
      }
    },
    {
      "cell_type": "code",
      "source": [
        "!pip install -U -q segmentation-models\n",
        "!pip install -q tensorflow\n",
        "!pip install -q keras\n",
        "os.environ[\"SM_FRAMEWORK\"] = \"tf.keras\"\n",
        "\n",
        "from tensorflow import keras"
      ],
      "metadata": {
        "colab": {
          "base_uri": "https://localhost:8080/"
        },
        "id": "uvX3j2-7wSTr",
        "outputId": "deae31bc-dfff-4116-a9cc-ded1c9076699"
      },
      "execution_count": 25,
      "outputs": [
        {
          "output_type": "stream",
          "name": "stdout",
          "text": [
            "\u001b[?25l     \u001b[90m━━━━━━━━━━━━━━━━━━━━━━━━━━━━━━━━━━━━━━━━\u001b[0m \u001b[32m0.0/50.7 KB\u001b[0m \u001b[31m?\u001b[0m eta \u001b[36m-:--:--\u001b[0m\r\u001b[2K     \u001b[90m━━━━━━━━━━━━━━━━━━━━━━━━━━━━━━━━━━━━━━━━\u001b[0m \u001b[32m50.7/50.7 KB\u001b[0m \u001b[31m4.8 MB/s\u001b[0m eta \u001b[36m0:00:00\u001b[0m\n",
            "\u001b[?25h"
          ]
        }
      ]
    },
    {
      "cell_type": "code",
      "source": [
        "from keras.models import Model\n",
        "from keras.layers import Input, Conv2D, MaxPooling2D, UpSampling2D, Conv2DTranspose\n",
        "from keras.layers import concatenate, BatchNormalization, Dropout, Lambda"
      ],
      "metadata": {
        "id": "nG2H9NHZxj0L"
      },
      "execution_count": 26,
      "outputs": []
    },
    {
      "cell_type": "code",
      "source": [
        "from keras import backend as K"
      ],
      "metadata": {
        "id": "rwrjeXSlxm7a"
      },
      "execution_count": 27,
      "outputs": []
    },
    {
      "cell_type": "code",
      "source": [
        "def jaccard_coef(y_true, y_pred):\n",
        "  y_true_flatten = K.flatten(y_true)\n",
        "  y_pred_flatten = K.flatten(y_pred)\n",
        "  intersection = K.sum(y_true_flatten * y_pred_flatten)\n",
        "  final_coef_value = (intersection + 1.0) / (K.sum(y_true_flatten) + K.sum(y_pred_flatten) - intersection + 1.0)\n",
        "  return final_coef_value"
      ],
      "metadata": {
        "id": "S0OqiOq-xpZe"
      },
      "execution_count": 28,
      "outputs": []
    },
    {
      "cell_type": "code",
      "source": [],
      "metadata": {
        "id": "RaIQxUHlxtX1"
      },
      "execution_count": 28,
      "outputs": []
    },
    {
      "cell_type": "code",
      "source": [
        "def multi_unet_model(n_classes=5, image_height=256, image_width=256, image_channels=1):\n",
        "\n",
        "  inputs = Input((image_height, image_width, image_channels))\n",
        "\n",
        "  source_input = inputs\n",
        "\n",
        "  c1 = Conv2D(16, (3,3), activation=\"relu\", kernel_initializer=\"he_normal\", padding=\"same\")(source_input)\n",
        "  c1 = Dropout(0.2)(c1)\n",
        "  c1 = Conv2D(16, (3,3), activation=\"relu\", kernel_initializer=\"he_normal\", padding=\"same\")(c1)\n",
        "  p1 = MaxPooling2D((2,2))(c1)\n",
        "\n",
        "  c2 = Conv2D(32, (3,3), activation=\"relu\", kernel_initializer=\"he_normal\", padding=\"same\")(p1)\n",
        "  c2 = Dropout(0.2)(c2)\n",
        "  c2 = Conv2D(32, (3,3), activation=\"relu\", kernel_initializer=\"he_normal\", padding=\"same\")(c2)\n",
        "  p2 = MaxPooling2D((2,2))(c2)\n",
        "\n",
        "  c3 = Conv2D(64, (3,3), activation=\"relu\", kernel_initializer=\"he_normal\", padding=\"same\")(p2)\n",
        "  c3 = Dropout(0.2)(c3)\n",
        "  c3 = Conv2D(64, (3,3), activation=\"relu\", kernel_initializer=\"he_normal\", padding=\"same\")(c3)\n",
        "  p3 = MaxPooling2D((2,2))(c3)\n",
        "\n",
        "  c4 = Conv2D(128, (3,3), activation=\"relu\", kernel_initializer=\"he_normal\", padding=\"same\")(p3)\n",
        "  c4 = Dropout(0.2)(c4)\n",
        "  c4 = Conv2D(128, (3,3), activation=\"relu\", kernel_initializer=\"he_normal\", padding=\"same\")(c4)\n",
        "  p4 = MaxPooling2D((2,2))(c4)\n",
        "\n",
        "  c5 = Conv2D(256, (3,3), activation=\"relu\", kernel_initializer=\"he_normal\", padding=\"same\")(p4)\n",
        "  c5 = Dropout(0.2)(c5)\n",
        "  c5 = Conv2D(256, (3,3), activation=\"relu\", kernel_initializer=\"he_normal\", padding=\"same\")(c5)\n",
        "\n",
        "  u6 = Conv2DTranspose(128, (2,2), strides=(2,2), padding=\"same\")(c5)\n",
        "  u6 = concatenate([u6, c4])\n",
        "  c6 = Conv2D(128, (3,3), activation=\"relu\", kernel_initializer=\"he_normal\", padding=\"same\")(u6)\n",
        "  c6 = Dropout(0.2)(c6)\n",
        "  c6 = Conv2D(128, (3,3), activation=\"relu\", kernel_initializer=\"he_normal\", padding=\"same\")(c6)\n",
        "\n",
        "  u7 = Conv2DTranspose(64, (2,2), strides=(2,2), padding=\"same\")(c6)\n",
        "  u7 = concatenate([u7, c3])\n",
        "  c7 = Conv2D(64, (3,3), activation=\"relu\", kernel_initializer=\"he_normal\", padding=\"same\")(u7)\n",
        "  c7 = Dropout(0.2)(c7)\n",
        "  c7 = Conv2D(64, (3,3), activation=\"relu\", kernel_initializer=\"he_normal\", padding=\"same\")(c7)\n",
        "\n",
        "  u8 = Conv2DTranspose(32, (2,2), strides=(2,2), padding=\"same\")(c7)\n",
        "  u8 = concatenate([u8, c2])\n",
        "  c8 = Conv2D(32, (3,3), activation=\"relu\", kernel_initializer=\"he_normal\", padding=\"same\")(u8)\n",
        "  c8 = Dropout(0.2)(c8)\n",
        "  c8 = Conv2D(32, (3,3), activation=\"relu\", kernel_initializer=\"he_normal\", padding=\"same\")(c8)\n",
        "\n",
        "  u9 = Conv2DTranspose(16, (2,2), strides=(2,2), padding=\"same\")(c8)\n",
        "  u9 = concatenate([u9, c1], axis=3)\n",
        "  c9 = Conv2D(16, (3,3), activation=\"relu\", kernel_initializer=\"he_normal\", padding=\"same\")(u9)\n",
        "  c9 = Dropout(0.2)(c9)\n",
        "  c9 = Conv2D(16, (3,3), activation=\"relu\", kernel_initializer=\"he_normal\", padding=\"same\")(c9)\n",
        "\n",
        "  outputs = Conv2D(n_classes, (1,1), activation=\"softmax\")(c9)\n",
        "\n",
        "  model = Model(inputs=[inputs], outputs=[outputs])\n",
        "  return model"
      ],
      "metadata": {
        "id": "5kSENPOl3Y_m"
      },
      "execution_count": 29,
      "outputs": []
    },
    {
      "cell_type": "code",
      "source": [
        "metrics = [\"accuracy\", jaccard_coef]"
      ],
      "metadata": {
        "id": "v2ipADIFxyus"
      },
      "execution_count": 30,
      "outputs": []
    },
    {
      "cell_type": "code",
      "source": [
        "def get_deep_learning_model():\n",
        "  return multi_unet_model(n_classes=total_classes, \n",
        "                          image_height=image_height, \n",
        "                          image_width=image_width, \n",
        "                          image_channels=image_channels)"
      ],
      "metadata": {
        "id": "v2FjksJGx2OC"
      },
      "execution_count": 31,
      "outputs": []
    },
    {
      "cell_type": "code",
      "source": [
        "model = get_deep_learning_model()"
      ],
      "metadata": {
        "id": "B7NIq3Ydx5ES"
      },
      "execution_count": 32,
      "outputs": []
    },
    {
      "cell_type": "markdown",
      "source": [
        "--Generating Loss Function"
      ],
      "metadata": {
        "id": "xGhM0Jz_yM7U"
      }
    },
    {
      "cell_type": "code",
      "source": [
        "weights = [0.5, 0.5]"
      ],
      "metadata": {
        "id": "nFRiHhbMyRf2"
      },
      "execution_count": 33,
      "outputs": []
    },
    {
      "cell_type": "code",
      "source": [
        "import segmentation_models as sm"
      ],
      "metadata": {
        "colab": {
          "base_uri": "https://localhost:8080/"
        },
        "id": "5_HR53sA7chU",
        "outputId": "0d8ae09a-31e9-41ba-9a82-f693342a33ed"
      },
      "execution_count": 34,
      "outputs": [
        {
          "output_type": "stream",
          "name": "stdout",
          "text": [
            "Segmentation Models: using `tf.keras` framework.\n"
          ]
        }
      ]
    },
    {
      "cell_type": "code",
      "source": [
        "dice_loss = sm.losses.DiceLoss(class_weights = weights)"
      ],
      "metadata": {
        "id": "UI02q5-j7fob"
      },
      "execution_count": 35,
      "outputs": []
    },
    {
      "cell_type": "code",
      "source": [
        "focal_loss = sm.losses.CategoricalFocalLoss()"
      ],
      "metadata": {
        "id": "eu3FD8-t7h9L"
      },
      "execution_count": 36,
      "outputs": []
    },
    {
      "cell_type": "code",
      "source": [
        "total_loss = dice_loss + (1 * focal_loss)"
      ],
      "metadata": {
        "id": "0fCByhf97kaw"
      },
      "execution_count": 37,
      "outputs": []
    },
    {
      "cell_type": "markdown",
      "source": [
        "**U-Net Model compilation**"
      ],
      "metadata": {
        "id": "iGRTcFxR9Ggp"
      }
    },
    {
      "cell_type": "code",
      "source": [
        "import tensorflow as tf"
      ],
      "metadata": {
        "id": "zombKRTa-Pjn"
      },
      "execution_count": 38,
      "outputs": []
    },
    {
      "cell_type": "code",
      "source": [
        "tf.keras.backend.clear_session()"
      ],
      "metadata": {
        "id": "jIlIoGdAA6oT"
      },
      "execution_count": 39,
      "outputs": []
    },
    {
      "cell_type": "code",
      "source": [
        "model.compile(optimizer=\"adam\", loss=total_loss, metrics=metrics)"
      ],
      "metadata": {
        "id": "ydvUAy2TA8vt"
      },
      "execution_count": 40,
      "outputs": []
    },
    {
      "cell_type": "code",
      "source": [
        "model_history = model.fit(X_train, y_train,\n",
        "                          batch_size=16,\n",
        "                          verbose=1,\n",
        "                          epochs=100,\n",
        "                          validation_data=(X_test, y_test),\n",
        "                          shuffle=False)"
      ],
      "metadata": {
        "colab": {
          "base_uri": "https://localhost:8080/"
        },
        "id": "StxiD3m1A-83",
        "outputId": "9a890f32-3a01-44d3-c1e6-1dad953d5ca6"
      },
      "execution_count": 41,
      "outputs": [
        {
          "output_type": "stream",
          "name": "stdout",
          "text": [
            "Epoch 1/100\n",
            "9/9 [==============================] - 27s 493ms/step - loss: 0.7586 - accuracy: 0.6653 - jaccard_coef: 0.4362 - val_loss: 0.7389 - val_accuracy: 0.7110 - val_jaccard_coef: 0.4790\n",
            "Epoch 2/100\n",
            "9/9 [==============================] - 1s 88ms/step - loss: 0.7290 - accuracy: 0.7245 - jaccard_coef: 0.5265 - val_loss: 0.7164 - val_accuracy: 0.7110 - val_jaccard_coef: 0.5516\n",
            "Epoch 3/100\n",
            "9/9 [==============================] - 1s 92ms/step - loss: 0.6965 - accuracy: 0.7313 - jaccard_coef: 0.6006 - val_loss: 0.6842 - val_accuracy: 0.8039 - val_jaccard_coef: 0.5854\n",
            "Epoch 4/100\n",
            "9/9 [==============================] - 1s 95ms/step - loss: 0.6770 - accuracy: 0.8479 - jaccard_coef: 0.6223 - val_loss: 0.6707 - val_accuracy: 0.8671 - val_jaccard_coef: 0.6335\n",
            "Epoch 5/100\n",
            "9/9 [==============================] - 1s 75ms/step - loss: 0.6636 - accuracy: 0.8747 - jaccard_coef: 0.6489 - val_loss: 0.6530 - val_accuracy: 0.8711 - val_jaccard_coef: 0.6685\n",
            "Epoch 6/100\n",
            "9/9 [==============================] - 1s 79ms/step - loss: 0.6311 - accuracy: 0.8659 - jaccard_coef: 0.7174 - val_loss: 0.6152 - val_accuracy: 0.8792 - val_jaccard_coef: 0.7404\n",
            "Epoch 7/100\n",
            "9/9 [==============================] - 1s 78ms/step - loss: 0.6173 - accuracy: 0.8796 - jaccard_coef: 0.7353 - val_loss: 0.6125 - val_accuracy: 0.8783 - val_jaccard_coef: 0.7429\n",
            "Epoch 8/100\n",
            "9/9 [==============================] - 1s 75ms/step - loss: 0.6143 - accuracy: 0.8828 - jaccard_coef: 0.7557 - val_loss: 0.6108 - val_accuracy: 0.8800 - val_jaccard_coef: 0.7398\n",
            "Epoch 9/100\n",
            "9/9 [==============================] - 1s 75ms/step - loss: 0.6106 - accuracy: 0.8855 - jaccard_coef: 0.7572 - val_loss: 0.6072 - val_accuracy: 0.8859 - val_jaccard_coef: 0.7561\n",
            "Epoch 10/100\n",
            "9/9 [==============================] - 1s 78ms/step - loss: 0.6081 - accuracy: 0.8890 - jaccard_coef: 0.7636 - val_loss: 0.6053 - val_accuracy: 0.8892 - val_jaccard_coef: 0.7556\n",
            "Epoch 11/100\n",
            "9/9 [==============================] - 1s 76ms/step - loss: 0.6061 - accuracy: 0.8907 - jaccard_coef: 0.7675 - val_loss: 0.6034 - val_accuracy: 0.8923 - val_jaccard_coef: 0.7608\n",
            "Epoch 12/100\n",
            "9/9 [==============================] - 1s 75ms/step - loss: 0.6029 - accuracy: 0.8939 - jaccard_coef: 0.7727 - val_loss: 0.6002 - val_accuracy: 0.8949 - val_jaccard_coef: 0.7678\n",
            "Epoch 13/100\n",
            "9/9 [==============================] - 1s 76ms/step - loss: 0.6024 - accuracy: 0.8946 - jaccard_coef: 0.7729 - val_loss: 0.5992 - val_accuracy: 0.8965 - val_jaccard_coef: 0.7748\n",
            "Epoch 14/100\n",
            "9/9 [==============================] - 1s 82ms/step - loss: 0.5999 - accuracy: 0.8972 - jaccard_coef: 0.7790 - val_loss: 0.5980 - val_accuracy: 0.8971 - val_jaccard_coef: 0.7741\n",
            "Epoch 15/100\n",
            "9/9 [==============================] - 1s 80ms/step - loss: 0.5984 - accuracy: 0.8992 - jaccard_coef: 0.7828 - val_loss: 0.5964 - val_accuracy: 0.8993 - val_jaccard_coef: 0.7799\n",
            "Epoch 16/100\n",
            "9/9 [==============================] - 1s 85ms/step - loss: 0.5979 - accuracy: 0.8997 - jaccard_coef: 0.7838 - val_loss: 0.5966 - val_accuracy: 0.8997 - val_jaccard_coef: 0.7735\n",
            "Epoch 17/100\n",
            "9/9 [==============================] - 1s 79ms/step - loss: 0.5942 - accuracy: 0.9031 - jaccard_coef: 0.7920 - val_loss: 0.5953 - val_accuracy: 0.9002 - val_jaccard_coef: 0.7796\n",
            "Epoch 18/100\n",
            "9/9 [==============================] - 1s 81ms/step - loss: 0.5920 - accuracy: 0.9052 - jaccard_coef: 0.7952 - val_loss: 0.5936 - val_accuracy: 0.9017 - val_jaccard_coef: 0.7863\n",
            "Epoch 19/100\n",
            "9/9 [==============================] - 1s 76ms/step - loss: 0.5909 - accuracy: 0.9065 - jaccard_coef: 0.7978 - val_loss: 0.5954 - val_accuracy: 0.8995 - val_jaccard_coef: 0.7889\n",
            "Epoch 20/100\n",
            "9/9 [==============================] - 1s 75ms/step - loss: 0.5896 - accuracy: 0.9078 - jaccard_coef: 0.8020 - val_loss: 0.5961 - val_accuracy: 0.8988 - val_jaccard_coef: 0.7865\n",
            "Epoch 21/100\n",
            "9/9 [==============================] - 1s 76ms/step - loss: 0.5891 - accuracy: 0.9088 - jaccard_coef: 0.8019 - val_loss: 0.5964 - val_accuracy: 0.8994 - val_jaccard_coef: 0.7921\n",
            "Epoch 22/100\n",
            "9/9 [==============================] - 1s 76ms/step - loss: 0.5877 - accuracy: 0.9101 - jaccard_coef: 0.8058 - val_loss: 0.5962 - val_accuracy: 0.8990 - val_jaccard_coef: 0.7913\n",
            "Epoch 23/100\n",
            "9/9 [==============================] - 1s 76ms/step - loss: 0.5865 - accuracy: 0.9114 - jaccard_coef: 0.8080 - val_loss: 0.5969 - val_accuracy: 0.8980 - val_jaccard_coef: 0.7877\n",
            "Epoch 24/100\n",
            "9/9 [==============================] - 1s 76ms/step - loss: 0.5849 - accuracy: 0.9132 - jaccard_coef: 0.8120 - val_loss: 0.5975 - val_accuracy: 0.8984 - val_jaccard_coef: 0.7873\n",
            "Epoch 25/100\n",
            "9/9 [==============================] - 1s 79ms/step - loss: 0.5816 - accuracy: 0.9169 - jaccard_coef: 0.8203 - val_loss: 0.5989 - val_accuracy: 0.8970 - val_jaccard_coef: 0.7836\n",
            "Epoch 26/100\n",
            "9/9 [==============================] - 1s 80ms/step - loss: 0.5792 - accuracy: 0.9185 - jaccard_coef: 0.8232 - val_loss: 0.6174 - val_accuracy: 0.8801 - val_jaccard_coef: 0.7695\n",
            "Epoch 27/100\n",
            "9/9 [==============================] - 1s 76ms/step - loss: 0.5800 - accuracy: 0.9183 - jaccard_coef: 0.8232 - val_loss: 0.6020 - val_accuracy: 0.8912 - val_jaccard_coef: 0.7709\n",
            "Epoch 28/100\n",
            "9/9 [==============================] - 1s 75ms/step - loss: 0.5787 - accuracy: 0.9194 - jaccard_coef: 0.8245 - val_loss: 0.6004 - val_accuracy: 0.8957 - val_jaccard_coef: 0.7867\n",
            "Epoch 29/100\n",
            "9/9 [==============================] - 1s 76ms/step - loss: 0.5752 - accuracy: 0.9235 - jaccard_coef: 0.8323 - val_loss: 0.6008 - val_accuracy: 0.8948 - val_jaccard_coef: 0.7852\n",
            "Epoch 30/100\n",
            "9/9 [==============================] - 1s 76ms/step - loss: 0.5743 - accuracy: 0.9243 - jaccard_coef: 0.8357 - val_loss: 0.6055 - val_accuracy: 0.8919 - val_jaccard_coef: 0.7834\n",
            "Epoch 31/100\n",
            "9/9 [==============================] - 1s 76ms/step - loss: 0.5742 - accuracy: 0.9243 - jaccard_coef: 0.8336 - val_loss: 0.6049 - val_accuracy: 0.8943 - val_jaccard_coef: 0.7925\n",
            "Epoch 32/100\n",
            "9/9 [==============================] - 1s 81ms/step - loss: 0.5746 - accuracy: 0.9246 - jaccard_coef: 0.8354 - val_loss: 0.5981 - val_accuracy: 0.8952 - val_jaccard_coef: 0.7871\n",
            "Epoch 33/100\n",
            "9/9 [==============================] - 1s 81ms/step - loss: 0.5705 - accuracy: 0.9278 - jaccard_coef: 0.8422 - val_loss: 0.6207 - val_accuracy: 0.8828 - val_jaccard_coef: 0.7810\n",
            "Epoch 34/100\n",
            "9/9 [==============================] - 1s 83ms/step - loss: 0.5674 - accuracy: 0.9318 - jaccard_coef: 0.8504 - val_loss: 0.6132 - val_accuracy: 0.8876 - val_jaccard_coef: 0.7860\n",
            "Epoch 35/100\n",
            "9/9 [==============================] - 1s 85ms/step - loss: 0.5654 - accuracy: 0.9340 - jaccard_coef: 0.8528 - val_loss: 0.6122 - val_accuracy: 0.8862 - val_jaccard_coef: 0.7821\n",
            "Epoch 36/100\n",
            "9/9 [==============================] - 1s 79ms/step - loss: 0.5642 - accuracy: 0.9357 - jaccard_coef: 0.8593 - val_loss: 0.6186 - val_accuracy: 0.8811 - val_jaccard_coef: 0.7734\n",
            "Epoch 37/100\n",
            "9/9 [==============================] - 1s 82ms/step - loss: 0.5627 - accuracy: 0.9368 - jaccard_coef: 0.8600 - val_loss: 0.6365 - val_accuracy: 0.8698 - val_jaccard_coef: 0.7666\n",
            "Epoch 38/100\n",
            "9/9 [==============================] - 1s 83ms/step - loss: 0.5646 - accuracy: 0.9345 - jaccard_coef: 0.8550 - val_loss: 0.6037 - val_accuracy: 0.8933 - val_jaccard_coef: 0.7907\n",
            "Epoch 39/100\n",
            "9/9 [==============================] - 1s 77ms/step - loss: 0.5627 - accuracy: 0.9369 - jaccard_coef: 0.8593 - val_loss: 0.6208 - val_accuracy: 0.8840 - val_jaccard_coef: 0.7844\n",
            "Epoch 40/100\n",
            "9/9 [==============================] - 1s 76ms/step - loss: 0.5592 - accuracy: 0.9409 - jaccard_coef: 0.8669 - val_loss: 0.6243 - val_accuracy: 0.8783 - val_jaccard_coef: 0.7748\n",
            "Epoch 41/100\n",
            "9/9 [==============================] - 1s 77ms/step - loss: 0.5557 - accuracy: 0.9440 - jaccard_coef: 0.8749 - val_loss: 0.6107 - val_accuracy: 0.8923 - val_jaccard_coef: 0.7932\n",
            "Epoch 42/100\n",
            "9/9 [==============================] - 1s 77ms/step - loss: 0.5537 - accuracy: 0.9459 - jaccard_coef: 0.8799 - val_loss: 0.6335 - val_accuracy: 0.8759 - val_jaccard_coef: 0.7737\n",
            "Epoch 43/100\n",
            "9/9 [==============================] - 1s 77ms/step - loss: 0.5513 - accuracy: 0.9486 - jaccard_coef: 0.8838 - val_loss: 0.6233 - val_accuracy: 0.8862 - val_jaccard_coef: 0.7918\n",
            "Epoch 44/100\n",
            "9/9 [==============================] - 1s 76ms/step - loss: 0.5495 - accuracy: 0.9506 - jaccard_coef: 0.8891 - val_loss: 0.6400 - val_accuracy: 0.8747 - val_jaccard_coef: 0.7760\n",
            "Epoch 45/100\n",
            "9/9 [==============================] - 1s 77ms/step - loss: 0.5477 - accuracy: 0.9522 - jaccard_coef: 0.8917 - val_loss: 0.6738 - val_accuracy: 0.8535 - val_jaccard_coef: 0.7465\n",
            "Epoch 46/100\n",
            "9/9 [==============================] - 1s 76ms/step - loss: 0.5476 - accuracy: 0.9522 - jaccard_coef: 0.8924 - val_loss: 0.6448 - val_accuracy: 0.8734 - val_jaccard_coef: 0.7735\n",
            "Epoch 47/100\n",
            "9/9 [==============================] - 1s 76ms/step - loss: 0.5480 - accuracy: 0.9518 - jaccard_coef: 0.8914 - val_loss: 0.6445 - val_accuracy: 0.8745 - val_jaccard_coef: 0.7735\n",
            "Epoch 48/100\n",
            "9/9 [==============================] - 1s 81ms/step - loss: 0.5511 - accuracy: 0.9485 - jaccard_coef: 0.8844 - val_loss: 0.6876 - val_accuracy: 0.8478 - val_jaccard_coef: 0.7388\n",
            "Epoch 49/100\n",
            "9/9 [==============================] - 1s 80ms/step - loss: 0.5549 - accuracy: 0.9452 - jaccard_coef: 0.8789 - val_loss: 0.6608 - val_accuracy: 0.8681 - val_jaccard_coef: 0.7672\n",
            "Epoch 50/100\n",
            "9/9 [==============================] - 1s 76ms/step - loss: 0.5528 - accuracy: 0.9480 - jaccard_coef: 0.8815 - val_loss: 0.6564 - val_accuracy: 0.8586 - val_jaccard_coef: 0.7535\n",
            "Epoch 51/100\n",
            "9/9 [==============================] - 1s 76ms/step - loss: 0.5531 - accuracy: 0.9469 - jaccard_coef: 0.8806 - val_loss: 0.7228 - val_accuracy: 0.8334 - val_jaccard_coef: 0.7227\n",
            "Epoch 52/100\n",
            "9/9 [==============================] - 1s 76ms/step - loss: 0.5600 - accuracy: 0.9411 - jaccard_coef: 0.8680 - val_loss: 0.7274 - val_accuracy: 0.8280 - val_jaccard_coef: 0.7136\n",
            "Epoch 53/100\n",
            "9/9 [==============================] - 1s 81ms/step - loss: 0.5675 - accuracy: 0.9332 - jaccard_coef: 0.8551 - val_loss: 0.6717 - val_accuracy: 0.8571 - val_jaccard_coef: 0.7499\n",
            "Epoch 54/100\n",
            "9/9 [==============================] - 1s 81ms/step - loss: 0.5710 - accuracy: 0.9297 - jaccard_coef: 0.8430 - val_loss: 0.6985 - val_accuracy: 0.8398 - val_jaccard_coef: 0.7278\n",
            "Epoch 55/100\n",
            "9/9 [==============================] - 1s 80ms/step - loss: 0.5684 - accuracy: 0.9325 - jaccard_coef: 0.8520 - val_loss: 0.6094 - val_accuracy: 0.8890 - val_jaccard_coef: 0.7841\n",
            "Epoch 56/100\n",
            "9/9 [==============================] - 1s 82ms/step - loss: 0.5671 - accuracy: 0.9327 - jaccard_coef: 0.8485 - val_loss: 0.6278 - val_accuracy: 0.8748 - val_jaccard_coef: 0.7673\n",
            "Epoch 57/100\n",
            "9/9 [==============================] - 1s 86ms/step - loss: 0.5693 - accuracy: 0.9324 - jaccard_coef: 0.8520 - val_loss: 0.6013 - val_accuracy: 0.8931 - val_jaccard_coef: 0.7775\n",
            "Epoch 58/100\n",
            "9/9 [==============================] - 1s 81ms/step - loss: 0.5639 - accuracy: 0.9377 - jaccard_coef: 0.8551 - val_loss: 0.6103 - val_accuracy: 0.8857 - val_jaccard_coef: 0.7708\n",
            "Epoch 59/100\n",
            "9/9 [==============================] - 1s 81ms/step - loss: 0.5528 - accuracy: 0.9467 - jaccard_coef: 0.8832 - val_loss: 0.6155 - val_accuracy: 0.8915 - val_jaccard_coef: 0.7940\n",
            "Epoch 60/100\n",
            "9/9 [==============================] - 1s 77ms/step - loss: 0.5427 - accuracy: 0.9568 - jaccard_coef: 0.9029 - val_loss: 0.6295 - val_accuracy: 0.8827 - val_jaccard_coef: 0.7846\n",
            "Epoch 61/100\n",
            "9/9 [==============================] - 1s 77ms/step - loss: 0.5388 - accuracy: 0.9610 - jaccard_coef: 0.9110 - val_loss: 0.6183 - val_accuracy: 0.8907 - val_jaccard_coef: 0.7949\n",
            "Epoch 62/100\n",
            "9/9 [==============================] - 1s 76ms/step - loss: 0.5371 - accuracy: 0.9628 - jaccard_coef: 0.9158 - val_loss: 0.6208 - val_accuracy: 0.8897 - val_jaccard_coef: 0.7924\n",
            "Epoch 63/100\n",
            "9/9 [==============================] - 1s 78ms/step - loss: 0.5349 - accuracy: 0.9648 - jaccard_coef: 0.9196 - val_loss: 0.6241 - val_accuracy: 0.8895 - val_jaccard_coef: 0.7940\n",
            "Epoch 64/100\n",
            "9/9 [==============================] - 1s 77ms/step - loss: 0.5334 - accuracy: 0.9665 - jaccard_coef: 0.9230 - val_loss: 0.6372 - val_accuracy: 0.8850 - val_jaccard_coef: 0.7897\n",
            "Epoch 65/100\n",
            "9/9 [==============================] - 1s 77ms/step - loss: 0.5321 - accuracy: 0.9676 - jaccard_coef: 0.9261 - val_loss: 0.6475 - val_accuracy: 0.8796 - val_jaccard_coef: 0.7836\n",
            "Epoch 66/100\n",
            "9/9 [==============================] - 1s 81ms/step - loss: 0.5326 - accuracy: 0.9672 - jaccard_coef: 0.9254 - val_loss: 0.6317 - val_accuracy: 0.8885 - val_jaccard_coef: 0.7945\n",
            "Epoch 67/100\n",
            "9/9 [==============================] - 1s 77ms/step - loss: 0.5330 - accuracy: 0.9670 - jaccard_coef: 0.9251 - val_loss: 0.6214 - val_accuracy: 0.8885 - val_jaccard_coef: 0.7913\n",
            "Epoch 68/100\n",
            "9/9 [==============================] - 1s 76ms/step - loss: 0.5339 - accuracy: 0.9662 - jaccard_coef: 0.9228 - val_loss: 0.6130 - val_accuracy: 0.8928 - val_jaccard_coef: 0.7953\n",
            "Epoch 69/100\n",
            "9/9 [==============================] - 1s 82ms/step - loss: 0.5372 - accuracy: 0.9626 - jaccard_coef: 0.9160 - val_loss: 0.6194 - val_accuracy: 0.8912 - val_jaccard_coef: 0.7957\n",
            "Epoch 70/100\n",
            "9/9 [==============================] - 1s 76ms/step - loss: 0.5348 - accuracy: 0.9648 - jaccard_coef: 0.9182 - val_loss: 0.6670 - val_accuracy: 0.8678 - val_jaccard_coef: 0.7680\n",
            "Epoch 71/100\n",
            "9/9 [==============================] - 1s 81ms/step - loss: 0.5348 - accuracy: 0.9646 - jaccard_coef: 0.9205 - val_loss: 0.6451 - val_accuracy: 0.8808 - val_jaccard_coef: 0.7854\n",
            "Epoch 72/100\n",
            "9/9 [==============================] - 1s 84ms/step - loss: 0.5354 - accuracy: 0.9648 - jaccard_coef: 0.9203 - val_loss: 0.6193 - val_accuracy: 0.8877 - val_jaccard_coef: 0.7874\n",
            "Epoch 73/100\n",
            "9/9 [==============================] - 1s 80ms/step - loss: 0.5322 - accuracy: 0.9678 - jaccard_coef: 0.9248 - val_loss: 0.6184 - val_accuracy: 0.8909 - val_jaccard_coef: 0.7946\n",
            "Epoch 74/100\n",
            "9/9 [==============================] - 1s 86ms/step - loss: 0.5296 - accuracy: 0.9700 - jaccard_coef: 0.9306 - val_loss: 0.6489 - val_accuracy: 0.8805 - val_jaccard_coef: 0.7849\n",
            "Epoch 75/100\n",
            "9/9 [==============================] - 1s 81ms/step - loss: 0.5271 - accuracy: 0.9727 - jaccard_coef: 0.9372 - val_loss: 0.6477 - val_accuracy: 0.8825 - val_jaccard_coef: 0.7877\n",
            "Epoch 76/100\n",
            "9/9 [==============================] - 1s 83ms/step - loss: 0.5270 - accuracy: 0.9727 - jaccard_coef: 0.9376 - val_loss: 0.6333 - val_accuracy: 0.8881 - val_jaccard_coef: 0.7942\n",
            "Epoch 77/100\n",
            "9/9 [==============================] - 1s 78ms/step - loss: 0.5260 - accuracy: 0.9738 - jaccard_coef: 0.9395 - val_loss: 0.6329 - val_accuracy: 0.8877 - val_jaccard_coef: 0.7919\n",
            "Epoch 78/100\n",
            "9/9 [==============================] - 1s 77ms/step - loss: 0.5254 - accuracy: 0.9743 - jaccard_coef: 0.9407 - val_loss: 0.6331 - val_accuracy: 0.8896 - val_jaccard_coef: 0.7953\n",
            "Epoch 79/100\n",
            "9/9 [==============================] - 1s 78ms/step - loss: 0.5251 - accuracy: 0.9745 - jaccard_coef: 0.9411 - val_loss: 0.6441 - val_accuracy: 0.8874 - val_jaccard_coef: 0.7948\n",
            "Epoch 80/100\n",
            "9/9 [==============================] - 1s 77ms/step - loss: 0.5238 - accuracy: 0.9758 - jaccard_coef: 0.9441 - val_loss: 0.6558 - val_accuracy: 0.8827 - val_jaccard_coef: 0.7893\n",
            "Epoch 81/100\n",
            "9/9 [==============================] - 1s 78ms/step - loss: 0.5247 - accuracy: 0.9750 - jaccard_coef: 0.9429 - val_loss: 0.6432 - val_accuracy: 0.8863 - val_jaccard_coef: 0.7923\n",
            "Epoch 82/100\n",
            "9/9 [==============================] - 1s 78ms/step - loss: 0.5243 - accuracy: 0.9755 - jaccard_coef: 0.9433 - val_loss: 0.6272 - val_accuracy: 0.8912 - val_jaccard_coef: 0.7970\n",
            "Epoch 83/100\n",
            "9/9 [==============================] - 1s 81ms/step - loss: 0.5249 - accuracy: 0.9747 - jaccard_coef: 0.9419 - val_loss: 0.6323 - val_accuracy: 0.8895 - val_jaccard_coef: 0.7947\n",
            "Epoch 84/100\n",
            "9/9 [==============================] - 1s 84ms/step - loss: 0.5247 - accuracy: 0.9749 - jaccard_coef: 0.9419 - val_loss: 0.6460 - val_accuracy: 0.8859 - val_jaccard_coef: 0.7935\n",
            "Epoch 85/100\n",
            "9/9 [==============================] - 1s 81ms/step - loss: 0.5234 - accuracy: 0.9761 - jaccard_coef: 0.9447 - val_loss: 0.6677 - val_accuracy: 0.8785 - val_jaccard_coef: 0.7842\n",
            "Epoch 86/100\n",
            "9/9 [==============================] - 1s 82ms/step - loss: 0.5241 - accuracy: 0.9755 - jaccard_coef: 0.9440 - val_loss: 0.6396 - val_accuracy: 0.8869 - val_jaccard_coef: 0.7934\n",
            "Epoch 87/100\n",
            "9/9 [==============================] - 1s 82ms/step - loss: 0.5231 - accuracy: 0.9767 - jaccard_coef: 0.9458 - val_loss: 0.6314 - val_accuracy: 0.8907 - val_jaccard_coef: 0.7970\n",
            "Epoch 88/100\n",
            "9/9 [==============================] - 1s 79ms/step - loss: 0.5233 - accuracy: 0.9764 - jaccard_coef: 0.9456 - val_loss: 0.6340 - val_accuracy: 0.8911 - val_jaccard_coef: 0.7981\n",
            "Epoch 89/100\n",
            "9/9 [==============================] - 1s 78ms/step - loss: 0.5224 - accuracy: 0.9773 - jaccard_coef: 0.9471 - val_loss: 0.6574 - val_accuracy: 0.8831 - val_jaccard_coef: 0.7899\n",
            "Epoch 90/100\n",
            "9/9 [==============================] - 1s 77ms/step - loss: 0.5219 - accuracy: 0.9776 - jaccard_coef: 0.9487 - val_loss: 0.6638 - val_accuracy: 0.8799 - val_jaccard_coef: 0.7863\n",
            "Epoch 91/100\n",
            "9/9 [==============================] - 1s 85ms/step - loss: 0.5225 - accuracy: 0.9769 - jaccard_coef: 0.9474 - val_loss: 0.6445 - val_accuracy: 0.8866 - val_jaccard_coef: 0.7929\n",
            "Epoch 92/100\n",
            "9/9 [==============================] - 1s 83ms/step - loss: 0.5214 - accuracy: 0.9784 - jaccard_coef: 0.9495 - val_loss: 0.6311 - val_accuracy: 0.8927 - val_jaccard_coef: 0.8002\n",
            "Epoch 93/100\n",
            "9/9 [==============================] - 1s 82ms/step - loss: 0.5218 - accuracy: 0.9777 - jaccard_coef: 0.9488 - val_loss: 0.6406 - val_accuracy: 0.8905 - val_jaccard_coef: 0.7982\n",
            "Epoch 94/100\n",
            "9/9 [==============================] - 1s 81ms/step - loss: 0.5205 - accuracy: 0.9790 - jaccard_coef: 0.9510 - val_loss: 0.6598 - val_accuracy: 0.8844 - val_jaccard_coef: 0.7921\n",
            "Epoch 95/100\n",
            "9/9 [==============================] - 1s 81ms/step - loss: 0.5204 - accuracy: 0.9792 - jaccard_coef: 0.9519 - val_loss: 0.6618 - val_accuracy: 0.8830 - val_jaccard_coef: 0.7909\n",
            "Epoch 96/100\n",
            "9/9 [==============================] - 1s 78ms/step - loss: 0.5208 - accuracy: 0.9788 - jaccard_coef: 0.9515 - val_loss: 0.6429 - val_accuracy: 0.8897 - val_jaccard_coef: 0.7971\n",
            "Epoch 97/100\n",
            "9/9 [==============================] - 1s 78ms/step - loss: 0.5199 - accuracy: 0.9797 - jaccard_coef: 0.9530 - val_loss: 0.6364 - val_accuracy: 0.8911 - val_jaccard_coef: 0.7982\n",
            "Epoch 98/100\n",
            "9/9 [==============================] - 1s 78ms/step - loss: 0.5205 - accuracy: 0.9791 - jaccard_coef: 0.9517 - val_loss: 0.6422 - val_accuracy: 0.8906 - val_jaccard_coef: 0.7993\n",
            "Epoch 99/100\n",
            "9/9 [==============================] - 1s 83ms/step - loss: 0.5200 - accuracy: 0.9795 - jaccard_coef: 0.9523 - val_loss: 0.6721 - val_accuracy: 0.8778 - val_jaccard_coef: 0.7838\n",
            "Epoch 100/100\n",
            "9/9 [==============================] - 1s 77ms/step - loss: 0.5196 - accuracy: 0.9799 - jaccard_coef: 0.9534 - val_loss: 0.6611 - val_accuracy: 0.8835 - val_jaccard_coef: 0.7914\n"
          ]
        }
      ]
    },
    {
      "cell_type": "code",
      "source": [
        "history_a = model_history"
      ],
      "metadata": {
        "id": "VCVma9RrBCtP"
      },
      "execution_count": 42,
      "outputs": []
    },
    {
      "cell_type": "code",
      "source": [
        "loss = history_a.history['loss']\n",
        "val_loss = history_a.history['val_loss']\n",
        "epochs = range(1, len(loss) + 1)\n",
        "plt.plot(epochs, loss, 'y', label=\"Training Loss\")\n",
        "plt.plot(epochs, val_loss, 'r', label=\"Validation Loss\")\n",
        "plt.title(\"Training Vs Validation Loss\")\n",
        "plt.xlabel(\"Epochs\")\n",
        "plt.ylabel(\"Loss\")\n",
        "plt.legend()\n",
        "plt.show()"
      ],
      "metadata": {
        "colab": {
          "base_uri": "https://localhost:8080/",
          "height": 295
        },
        "id": "7sRxk61aBHVE",
        "outputId": "6af83b0d-1869-4d87-a1f7-a8564bab2bf0"
      },
      "execution_count": 43,
      "outputs": [
        {
          "output_type": "display_data",
          "data": {
            "text/plain": [
              "<Figure size 432x288 with 1 Axes>"
            ],
            "image/png": "[encoded data removed]"
          },
          "metadata": {
            "needs_background": "light"
          }
        }
      ]
    },
    {
      "cell_type": "code",
      "source": [
        "jaccard_coef = history_a.history['jaccard_coef']\n",
        "val_jaccard_coef = history_a.history['val_jaccard_coef']\n",
        "\n",
        "epochs = range(1, len(jaccard_coef) + 1)\n",
        "plt.plot(epochs, jaccard_coef, 'y', label=\"Training IoU\")\n",
        "plt.plot(epochs, val_jaccard_coef, 'r', label=\"Validation IoU\")\n",
        "plt.title(\"Training Vs Validation IoU\")\n",
        "plt.xlabel(\"Epochs\")\n",
        "plt.ylabel(\"Loss\")\n",
        "plt.legend()\n",
        "plt.show()"
      ],
      "metadata": {
        "colab": {
          "base_uri": "https://localhost:8080/",
          "height": 295
        },
        "id": "Hx0dcl4JBKAK",
        "outputId": "cfdef71b-c4e4-46fa-d275-299b41177278"
      },
      "execution_count": 44,
      "outputs": [
        {
          "output_type": "display_data",
          "data": {
            "text/plain": [
              "<Figure size 432x288 with 1 Axes>"
            ],
            "image/png": "[encoded data removed]"
          },
          "metadata": {
            "needs_background": "light"
          }
        }
      ]
    },
    {
      "cell_type": "code",
      "source": [
        "y_pred = model.predict(X_test)"
      ],
      "metadata": {
        "colab": {
          "base_uri": "https://localhost:8080/"
        },
        "id": "k2aR3NIsBO7t",
        "outputId": "10efff13-cd8c-4313-a53f-5e5a527104f6"
      },
      "execution_count": 45,
      "outputs": [
        {
          "output_type": "stream",
          "name": "stdout",
          "text": [
            "1/1 [==============================] - 1s 852ms/step\n"
          ]
        }
      ]
    },
    {
      "cell_type": "code",
      "source": [
        "y_pred_argmax = np.argmax(y_pred, axis=3)"
      ],
      "metadata": {
        "id": "IWwfOFHdBR3c"
      },
      "execution_count": 46,
      "outputs": []
    },
    {
      "cell_type": "code",
      "source": [
        "y_test_argmax = np.argmax(y_test, axis=3)"
      ],
      "metadata": {
        "id": "avIetiUVBVRg"
      },
      "execution_count": 47,
      "outputs": []
    },
    {
      "cell_type": "code",
      "source": [
        "model.save(\"satellite_segmentation_full.h5\")"
      ],
      "metadata": {
        "id": "M3B44zSYBXh7"
      },
      "execution_count": 48,
      "outputs": []
    },
    {
      "cell_type": "code",
      "source": [
        "from keras.models import load_model"
      ],
      "metadata": {
        "id": "cR3KVI4pB_-9"
      },
      "execution_count": 49,
      "outputs": []
    },
    {
      "cell_type": "code",
      "source": [
        "saved_model = load_model('/content/satellite_segmentation_full.h5',\n",
        "                         custom_objects=({'dice_loss_plus_1focal_loss': total_loss, \n",
        "                                          'jaccard_coef': jaccard_coef}))"
      ],
      "metadata": {
        "id": "s2n7RgBICBAz"
      },
      "execution_count": 50,
      "outputs": []
    },
    {
      "cell_type": "code",
      "source": [
        "import random"
      ],
      "metadata": {
        "id": "3Q3fsSkvCED8"
      },
      "execution_count": 51,
      "outputs": []
    },
    {
      "cell_type": "code",
      "source": [
        "test_image_number = random.randint(0, len(X_test))\n",
        "\n",
        "test_image = X_test[test_image_number]\n",
        "ground_truth_image = y_test_argmax[test_image_number]\n",
        "\n",
        "test_image_input = np.expand_dims(test_image, 0)\n",
        "\n",
        "prediction = saved_model.predict(test_image_input)\n",
        "predicted_image = np.argmax(prediction, axis=3)\n",
        "predicted_image = predicted_image[0,:,:]"
      ],
      "metadata": {
        "colab": {
          "base_uri": "https://localhost:8080/"
        },
        "id": "_NP3jghjCGgo",
        "outputId": "20775ba6-0bb7-4455-c01b-0d14d81ccf25"
      },
      "execution_count": 52,
      "outputs": [
        {
          "output_type": "stream",
          "name": "stdout",
          "text": [
            "1/1 [==============================] - 1s 504ms/step\n"
          ]
        }
      ]
    },
    {
      "cell_type": "code",
      "source": [
        "plt.figure(figsize=(14,8))\n",
        "plt.subplot(231)\n",
        "plt.title(\"Original Image\")\n",
        "plt.imshow(test_image)\n",
        "plt.subplot(232)\n",
        "plt.title(\"Original Masked image\")\n",
        "plt.imshow(ground_truth_image)\n",
        "plt.subplot(233)\n",
        "plt.title(\"Predicted Image\")\n",
        "plt.imshow(predicted_image)"
      ],
      "metadata": {
        "colab": {
          "base_uri": "https://localhost:8080/",
          "height": 279
        },
        "id": "FKAVJkwCCJ89",
        "outputId": "8c04cf46-0378-4c2a-d218-700bf8038cde"
      },
      "execution_count": 53,
      "outputs": [
        {
          "output_type": "execute_result",
          "data": {
            "text/plain": [
              "<matplotlib.image.AxesImage at 0x7f220475b3a0>"
            ]
          },
          "metadata": {},
          "execution_count": 53
        },
        {
          "output_type": "display_data",
          "data": {
            "text/plain": [
              "<Figure size 1008x576 with 3 Axes>"
            ],
            "image/png": "[encoded data removed]"
          },
          "metadata": {
            "needs_background": "light"
          }
        }
      ]
    }
  ]
}